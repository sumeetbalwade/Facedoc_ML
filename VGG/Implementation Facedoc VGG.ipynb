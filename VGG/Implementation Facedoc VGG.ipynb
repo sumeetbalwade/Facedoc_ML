{
 "cells": [
  {
   "cell_type": "code",
   "execution_count": 18,
   "id": "19968019",
   "metadata": {},
   "outputs": [],
   "source": [
    "import numpy as np\n",
    "import tensorflow as tf\n",
    "from tensorflow import keras\n",
    "from tensorflow.keras.layers import Dense, Activation, Flatten, GlobalAveragePooling2D, Dropout\n",
    "from tensorflow.keras.optimizers import Adam\n",
    "from tensorflow.keras.metrics import categorical_crossentropy\n",
    "from tensorflow.keras.preprocessing.image import ImageDataGenerator\n",
    "from tensorflow.keras.preprocessing import image\n",
    "from tensorflow.keras.models import Model\n",
    "from tensorflow.keras.applications import imagenet_utils\n",
    "from sklearn.metrics import confusion_matrix\n",
    "from keras.layers import Input\n",
    "from keras.models import Model\n",
    "from keras.layers import Flatten\n",
    "from keras.layers import Dense\n",
    "from keras.layers import Input\n",
    "from keras.layers import Conv2D\n",
    "from keras.layers import MaxPooling2D\n",
    "from keras.layers import GlobalMaxPooling2D\n",
    "from keras.layers import GlobalAveragePooling2D\n",
    "from keras.preprocessing import image\n",
    "from keras.utils import layer_utils\n",
    "from keras.utils.data_utils import get_file\n",
    "from keras import backend as K\n",
    "from keras.applications.imagenet_utils import decode_predictions\n",
    "from keras.applications.imagenet_utils import preprocess_input\n",
    "#from keras.applications.imagenet_utils import _obtain_input_shape\n",
    "from keras.engine.topology import get_source_inputs\n",
    "import itertools\n",
    "import os\n",
    "import shutil\n",
    "import random\n",
    "import matplotlib.pyplot as plt\n",
    "from IPython.display import Image\n",
    "from IPython.display import clear_output\n",
    "%matplotlib inline"
   ]
  },
  {
   "cell_type": "code",
   "execution_count": 2,
   "id": "1860711c",
   "metadata": {},
   "outputs": [],
   "source": [
    "celebs = ['Irrfan_Khan', 'Jacqueline_Fernandez', 'Juhi_Chawla', \n",
    "          'Kajal_Aggarwal', 'Paresh_Rawal']"
   ]
  },
  {
   "cell_type": "code",
   "execution_count": 3,
   "id": "75b6aa70",
   "metadata": {},
   "outputs": [],
   "source": [
    "os.chdir('data/celeb_faces_dataset')\n",
    "if os.path.isdir('train/Irrfan_Khan/') is False: \n",
    "    os.mkdir('train')\n",
    "    os.mkdir('valid')\n",
    "    os.mkdir('test')\n",
    "\n",
    "    for c in celebs:\n",
    "        shutil.move(f'{c}', 'train')\n",
    "        os.mkdir(f'valid/{c}')\n",
    "        os.mkdir(f'test/{c}')\n",
    "\n",
    "        valid_samples = random.sample(os.listdir(f'train/{c}'), 30)\n",
    "        for i in valid_samples:\n",
    "            shutil.move(f'train/{c}/{i}', f'valid/{c}')\n",
    "\n",
    "        test_samples = random.sample(os.listdir(f'train/{c}'), 5)\n",
    "        for j in test_samples:\n",
    "            shutil.move(f'train/{c}/{j}', f'test/{c}')\n",
    "os.chdir('../..')"
   ]
  },
  {
   "cell_type": "code",
   "execution_count": 4,
   "id": "9a224fe2",
   "metadata": {},
   "outputs": [],
   "source": [
    "train_path = 'data/celeb_faces_dataset/train'\n",
    "valid_path = 'data/celeb_faces_dataset/valid'\n",
    "test_path = 'data/celeb_faces_dataset/test'"
   ]
  },
  {
   "cell_type": "code",
   "execution_count": 5,
   "id": "185e4c22",
   "metadata": {},
   "outputs": [
    {
     "name": "stdout",
     "output_type": "stream",
     "text": [
      "Found 278 images belonging to 5 classes.\n",
      "Found 150 images belonging to 5 classes.\n",
      "Found 25 images belonging to 5 classes.\n"
     ]
    }
   ],
   "source": [
    "train_batches = ImageDataGenerator(preprocessing_function=tf.keras.applications.mobilenet.preprocess_input)\\\n",
    "                .flow_from_directory(directory=train_path, target_size=(224,224), batch_size=5)\n",
    "valid_batches = ImageDataGenerator(preprocessing_function=tf.keras.applications.mobilenet.preprocess_input)\\\n",
    "                .flow_from_directory(directory=valid_path, target_size=(224,224), batch_size=5)\n",
    "test_batches = ImageDataGenerator(preprocessing_function=tf.keras.applications.mobilenet.preprocess_input)\\\n",
    "               .flow_from_directory(directory=test_path, target_size=(224,224), batch_size=5, shuffle=False)"
   ]
  },
  {
   "cell_type": "code",
   "execution_count": 6,
   "id": "f6f39dd4",
   "metadata": {},
   "outputs": [],
   "source": [
    "def VGGupdated(input_tensor=None, classes=100):\n",
    "    \n",
    "    img_rows, img_cols = 224,224\n",
    "    img_channels = 3\n",
    "    \n",
    "    img_dim = (img_rows, img_cols, img_channels)\n",
    "    \n",
    "    img_input = Input(shape=img_dim)\n",
    "    \n",
    "    x= Conv2D(64, (3,3), activation='relu', padding='same', name='block1_conv1')(img_input)\n",
    "    x= Conv2D(64, (3,3), activation='relu', padding='same', name='block1_conv2')(x)\n",
    "    x= MaxPooling2D((2,2), strides=(2,2), name='block1_pool')(x)\n",
    "    \n",
    "    x= Conv2D(128, (3,3), activation='relu', padding='same', name='block2_conv1')(x)\n",
    "    x= Conv2D(128, (3,3), activation='relu', padding='same', name='block2_conv2')(x)\n",
    "    x= MaxPooling2D((2,2), strides=(2,2), name='block2_pool')(x)\n",
    "    \n",
    "    x= Conv2D(256, (3,3), activation='relu', padding='same', name='block3_conv1')(x)\n",
    "    x= Conv2D(256, (3,3), activation='relu', padding='same', name='block3_conv2')(x)\n",
    "    x= Conv2D(256, (3,3), activation='relu', padding='same', name='block3_conv3')(x)\n",
    "    x= MaxPooling2D((2,2), strides=(2,2), name='block3_pool')(x)\n",
    "    \n",
    "    x= Conv2D(512, (3,3), activation='relu', padding='same', name='block4_conv1')(x)\n",
    "    x= Conv2D(512, (3,3), activation='relu', padding='same', name='block4_conv2')(x)\n",
    "    x= Conv2D(512, (3,3), activation='relu', padding='same', name='block4_conv3')(x)\n",
    "    x= MaxPooling2D((2,2), strides=(2,2), name='block4_pool')(x)\n",
    "    \n",
    "    x= Conv2D(512, (3,3), activation='relu', padding='same', name='block5_conv1')(x)\n",
    "    x= Conv2D(512, (3,3), activation='relu', padding='same', name='block5_conv2')(x)\n",
    "    x= Conv2D(512, (3,3), activation='relu', padding='same', name='block5_conv3')(x)\n",
    "    x= MaxPooling2D((2,2), strides=(2,2), name='block5_pool')(x)\n",
    "    \n",
    "    \n",
    "    x = Flatten(name='flatten')(x)\n",
    "    x = Dense(4096, activation='relu', name='fc1')(x)\n",
    "    x = Dense(4096, activation='relu', name='fc2')(x)\n",
    "    x = Dense(classes, activation='softmax', name='predictions')(x)\n",
    "    \n",
    "    \n",
    "    model = Model(inputs = img_input, outputs = x, name='VGGdemo')\n",
    "    \n",
    "    return model"
   ]
  },
  {
   "cell_type": "code",
   "execution_count": 11,
   "id": "aa505988",
   "metadata": {},
   "outputs": [],
   "source": [
    "model = VGGupdated(classes = 5)"
   ]
  },
  {
   "cell_type": "code",
   "execution_count": 12,
   "id": "d67457f8",
   "metadata": {},
   "outputs": [],
   "source": [
    "model.compile(optimizer='adam', loss='categorical_crossentropy', metrics=['accuracy'])"
   ]
  },
  {
   "cell_type": "code",
   "execution_count": 13,
   "id": "cca07854",
   "metadata": {},
   "outputs": [
    {
     "name": "stdout",
     "output_type": "stream",
     "text": [
      "Model: \"VGGdemo\"\n",
      "_________________________________________________________________\n",
      "Layer (type)                 Output Shape              Param #   \n",
      "=================================================================\n",
      "input_2 (InputLayer)         [(None, 224, 224, 3)]     0         \n",
      "_________________________________________________________________\n",
      "block1_conv1 (Conv2D)        (None, 224, 224, 64)      1792      \n",
      "_________________________________________________________________\n",
      "block1_conv2 (Conv2D)        (None, 224, 224, 64)      36928     \n",
      "_________________________________________________________________\n",
      "block1_pool (MaxPooling2D)   (None, 112, 112, 64)      0         \n",
      "_________________________________________________________________\n",
      "block2_conv1 (Conv2D)        (None, 112, 112, 128)     73856     \n",
      "_________________________________________________________________\n",
      "block2_conv2 (Conv2D)        (None, 112, 112, 128)     147584    \n",
      "_________________________________________________________________\n",
      "block2_pool (MaxPooling2D)   (None, 56, 56, 128)       0         \n",
      "_________________________________________________________________\n",
      "block3_conv1 (Conv2D)        (None, 56, 56, 256)       295168    \n",
      "_________________________________________________________________\n",
      "block3_conv2 (Conv2D)        (None, 56, 56, 256)       590080    \n",
      "_________________________________________________________________\n",
      "block3_conv3 (Conv2D)        (None, 56, 56, 256)       590080    \n",
      "_________________________________________________________________\n",
      "block3_pool (MaxPooling2D)   (None, 28, 28, 256)       0         \n",
      "_________________________________________________________________\n",
      "block4_conv1 (Conv2D)        (None, 28, 28, 512)       1180160   \n",
      "_________________________________________________________________\n",
      "block4_conv2 (Conv2D)        (None, 28, 28, 512)       2359808   \n",
      "_________________________________________________________________\n",
      "block4_conv3 (Conv2D)        (None, 28, 28, 512)       2359808   \n",
      "_________________________________________________________________\n",
      "block4_pool (MaxPooling2D)   (None, 14, 14, 512)       0         \n",
      "_________________________________________________________________\n",
      "block5_conv1 (Conv2D)        (None, 14, 14, 512)       2359808   \n",
      "_________________________________________________________________\n",
      "block5_conv2 (Conv2D)        (None, 14, 14, 512)       2359808   \n",
      "_________________________________________________________________\n",
      "block5_conv3 (Conv2D)        (None, 14, 14, 512)       2359808   \n",
      "_________________________________________________________________\n",
      "block5_pool (MaxPooling2D)   (None, 7, 7, 512)         0         \n",
      "_________________________________________________________________\n",
      "flatten (Flatten)            (None, 25088)             0         \n",
      "_________________________________________________________________\n",
      "fc1 (Dense)                  (None, 4096)              102764544 \n",
      "_________________________________________________________________\n",
      "fc2 (Dense)                  (None, 4096)              16781312  \n",
      "_________________________________________________________________\n",
      "predictions (Dense)          (None, 5)                 20485     \n",
      "=================================================================\n",
      "Total params: 134,281,029\n",
      "Trainable params: 134,281,029\n",
      "Non-trainable params: 0\n",
      "_________________________________________________________________\n"
     ]
    }
   ],
   "source": [
    "model.summary()"
   ]
  },
  {
   "cell_type": "code",
   "execution_count": 15,
   "id": "65ae422f",
   "metadata": {},
   "outputs": [],
   "source": [
    "class PlotLearning(keras.callbacks.Callback):\n",
    "    \"\"\"\n",
    "    Callback to plot the learning curves of the model during training.\n",
    "    \"\"\"\n",
    "    def on_train_begin(self, logs={}):\n",
    "        self.metrics = {}\n",
    "        for metric in logs:\n",
    "            self.metrics[metric] = []\n",
    "            \n",
    "\n",
    "    def on_epoch_end(self, epoch, logs={}):\n",
    "        # Storing metrics\n",
    "        for metric in logs:\n",
    "            if metric in self.metrics:\n",
    "                self.metrics[metric].append(logs.get(metric))\n",
    "            else:\n",
    "                self.metrics[metric] = [logs.get(metric)]\n",
    "        \n",
    "        # Plotting\n",
    "        metrics = [x for x in logs if 'val' not in x]\n",
    "        \n",
    "        f, axs = plt.subplots(1, len(metrics), figsize=(15,5))\n",
    "        clear_output(wait=True)\n",
    "\n",
    "        for i, metric in enumerate(metrics):\n",
    "            axs[i].plot(range(1, epoch + 2), \n",
    "                        self.metrics[metric], \n",
    "                        label=metric)\n",
    "            if logs['val_' + metric]:\n",
    "                axs[i].plot(range(1, epoch + 2), \n",
    "                            self.metrics['val_' + metric], \n",
    "                            label='val_' + metric)\n",
    "                \n",
    "            axs[i].legend()\n",
    "            axs[i].grid()\n",
    "\n",
    "        plt.tight_layout()\n",
    "        plt.show()"
   ]
  },
  {
   "cell_type": "code",
   "execution_count": 16,
   "id": "97ad57df",
   "metadata": {},
   "outputs": [],
   "source": [
    "callbacks_list = [PlotLearning()]"
   ]
  },
  {
   "cell_type": "code",
   "execution_count": 19,
   "id": "55ff5308",
   "metadata": {},
   "outputs": [
    {
     "data": {
      "image/png": "[encoded data removed]",
      "text/plain": [
       "<Figure size 1080x360 with 2 Axes>"
      ]
     },
     "metadata": {
      "needs_background": "light"
     },
     "output_type": "display_data"
    },
    {
     "name": "stdout",
     "output_type": "stream",
     "text": [
      "56/56 - 168s - loss: 1.5223 - accuracy: 0.3165 - val_loss: 1.6996 - val_accuracy: 0.2000\n"
     ]
    },
    {
     "data": {
      "text/plain": [
       "<tensorflow.python.keras.callbacks.History at 0x21aa03ff0d0>"
      ]
     },
     "execution_count": 19,
     "metadata": {},
     "output_type": "execute_result"
    }
   ],
   "source": [
    "model.fit(x=train_batches,\n",
    "            steps_per_epoch=len(train_batches),\n",
    "            validation_data=valid_batches,\n",
    "            validation_steps=len(valid_batches),\n",
    "            epochs=20,\n",
    "            verbose=2,\n",
    "            callbacks=callbacks_list\n",
    ")"
   ]
  },
  {
   "cell_type": "code",
   "execution_count": 20,
   "id": "35fe198e",
   "metadata": {},
   "outputs": [],
   "source": [
    "test_labels = test_batches.classes"
   ]
  },
  {
   "cell_type": "code",
   "execution_count": 21,
   "id": "e9febc17",
   "metadata": {},
   "outputs": [],
   "source": [
    "predictions = model.predict(x=test_batches, steps=len(test_batches), verbose=0)"
   ]
  },
  {
   "cell_type": "code",
   "execution_count": 22,
   "id": "30f01b6c",
   "metadata": {},
   "outputs": [
    {
     "data": {
      "text/plain": [
       "array([[0.16220172, 0.27337247, 0.1580986 , 0.31356338, 0.09276383],\n",
       "       [0.16220172, 0.27337247, 0.1580986 , 0.31356338, 0.09276383],\n",
       "       [0.16220172, 0.27337247, 0.1580986 , 0.31356338, 0.09276383],\n",
       "       [0.16220172, 0.27337247, 0.1580986 , 0.31356338, 0.09276383],\n",
       "       [0.16220172, 0.27337247, 0.1580986 , 0.31356338, 0.09276382],\n",
       "       [0.16220172, 0.27337247, 0.1580986 , 0.31356338, 0.09276383],\n",
       "       [0.16220172, 0.27337247, 0.1580986 , 0.31356338, 0.09276383],\n",
       "       [0.16220172, 0.27337247, 0.1580986 , 0.31356338, 0.09276383],\n",
       "       [0.16220172, 0.27337247, 0.1580986 , 0.31356338, 0.09276383],\n",
       "       [0.16220172, 0.27337247, 0.1580986 , 0.31356338, 0.09276382],\n",
       "       [0.16220172, 0.27337247, 0.1580986 , 0.31356338, 0.09276383],\n",
       "       [0.16220172, 0.27337247, 0.1580986 , 0.31356338, 0.09276383],\n",
       "       [0.16220172, 0.27337247, 0.1580986 , 0.31356338, 0.09276383],\n",
       "       [0.16220172, 0.27337247, 0.1580986 , 0.31356338, 0.09276383],\n",
       "       [0.16220172, 0.27337247, 0.1580986 , 0.31356338, 0.09276382],\n",
       "       [0.16220172, 0.27337247, 0.1580986 , 0.31356338, 0.09276383],\n",
       "       [0.16220172, 0.27337247, 0.1580986 , 0.31356338, 0.09276383],\n",
       "       [0.16220172, 0.27337247, 0.1580986 , 0.31356338, 0.09276383],\n",
       "       [0.16220172, 0.27337247, 0.1580986 , 0.31356338, 0.09276383],\n",
       "       [0.16220172, 0.27337247, 0.1580986 , 0.31356338, 0.09276382],\n",
       "       [0.16220172, 0.27337247, 0.1580986 , 0.31356338, 0.09276383],\n",
       "       [0.16220172, 0.27337247, 0.1580986 , 0.31356338, 0.09276383],\n",
       "       [0.16220172, 0.27337247, 0.1580986 , 0.31356338, 0.09276383],\n",
       "       [0.16220172, 0.27337247, 0.1580986 , 0.31356338, 0.09276383],\n",
       "       [0.16220172, 0.27337247, 0.1580986 , 0.31356338, 0.09276382]],\n",
       "      dtype=float32)"
      ]
     },
     "execution_count": 22,
     "metadata": {},
     "output_type": "execute_result"
    }
   ],
   "source": [
    "predictions"
   ]
  },
  {
   "cell_type": "code",
   "execution_count": 23,
   "id": "150c53f7",
   "metadata": {},
   "outputs": [],
   "source": [
    "cm = confusion_matrix(y_true=test_labels, y_pred=predictions.argmax(axis=1))"
   ]
  },
  {
   "cell_type": "code",
   "execution_count": 24,
   "id": "9123888d",
   "metadata": {},
   "outputs": [],
   "source": [
    "def plot_confusion_matrix(cm, classes,\n",
    "                          normalize=False,\n",
    "                          title='Confusion matrix',\n",
    "                          cmap=plt.cm.Blues):\n",
    "    \"\"\"\n",
    "    This function prints and plots the confusion matrix.\n",
    "    Normalization can be applied by setting `normalize=True`.\n",
    "    \"\"\"\n",
    "    plt.imshow(cm, interpolation='nearest', cmap=cmap)\n",
    "    plt.title(title)\n",
    "    plt.colorbar()\n",
    "    tick_marks = np.arange(len(classes))\n",
    "    plt.xticks(tick_marks, classes, rotation=90)\n",
    "    plt.yticks(tick_marks, classes)\n",
    "\n",
    "    if normalize:\n",
    "        cm = cm.astype('float') / cm.sum(axis=1)[:, np.newaxis]\n",
    "        print(\"Normalized confusion matrix\")\n",
    "    else:\n",
    "        print('Confusion matrix, without normalization')\n",
    "\n",
    "    print(cm)\n",
    "\n",
    "    thresh = cm.max() / 2.\n",
    "    for i, j in itertools.product(range(cm.shape[0]), range(cm.shape[1])):\n",
    "        plt.text(j, i, cm[i, j],\n",
    "            horizontalalignment=\"center\",\n",
    "            color=\"white\" if cm[i, j] > thresh else \"black\")\n",
    "\n",
    "    plt.tight_layout()\n",
    "    plt.ylabel('True label')\n",
    "    plt.xlabel('Predicted label')"
   ]
  },
  {
   "cell_type": "code",
   "execution_count": 25,
   "id": "f92328b5",
   "metadata": {},
   "outputs": [
    {
     "data": {
      "text/plain": [
       "{'Irrfan_Khan': 0,\n",
       " 'Jacqueline_Fernandez': 1,\n",
       " 'Juhi_Chawla': 2,\n",
       " 'Kajal_Aggarwal': 3,\n",
       " 'Paresh_Rawal': 4}"
      ]
     },
     "execution_count": 25,
     "metadata": {},
     "output_type": "execute_result"
    }
   ],
   "source": [
    "test_batches.class_indices"
   ]
  },
  {
   "cell_type": "code",
   "execution_count": 26,
   "id": "a4eff275",
   "metadata": {},
   "outputs": [
    {
     "name": "stdout",
     "output_type": "stream",
     "text": [
      "Confusion matrix, without normalization\n",
      "[[0 0 0 5 0]\n",
      " [0 0 0 5 0]\n",
      " [0 0 0 5 0]\n",
      " [0 0 0 5 0]\n",
      " [0 0 0 5 0]]\n"
     ]
    },
    {
     "data": {
      "image/png": "[encoded data removed]",
      "text/plain": [
       "<Figure size 432x288 with 2 Axes>"
      ]
     },
     "metadata": {
      "needs_background": "light"
     },
     "output_type": "display_data"
    }
   ],
   "source": [
    "cm_plot_labels = celebs[:]\n",
    "plot_confusion_matrix(cm=cm, classes=cm_plot_labels, title='Confusion Matrix')"
   ]
  },
  {
   "cell_type": "code",
   "execution_count": 27,
   "id": "cf926626",
   "metadata": {},
   "outputs": [],
   "source": [
    "model.save('models\\model_20.00_vgg.h5')"
   ]
  },
  {
   "cell_type": "code",
   "execution_count": null,
   "id": "3f5eb0ff",
   "metadata": {},
   "outputs": [],
   "source": []
  }
 ],
 "metadata": {
  "kernelspec": {
   "display_name": "Python 3",
   "language": "python",
   "name": "python3"
  },
  "language_info": {
   "codemirror_mode": {
    "name": "ipython",
    "version": 3
   },
   "file_extension": ".py",
   "mimetype": "text/x-python",
   "name": "python",
   "nbconvert_exporter": "python",
   "pygments_lexer": "ipython3",
   "version": "3.8.8"
  }
 },
 "nbformat": 4,
 "nbformat_minor": 5
}
